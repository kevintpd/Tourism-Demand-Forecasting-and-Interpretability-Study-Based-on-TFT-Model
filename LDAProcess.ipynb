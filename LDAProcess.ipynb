{
 "cells": [
  {
   "cell_type": "code",
   "execution_count": null,
   "id": "initial_id",
   "metadata": {
    "ExecuteTime": {
     "end_time": "2024-10-30T09:20:11.224300Z",
     "start_time": "2024-10-30T09:20:06.031432Z"
    },
    "collapsed": true
   },
   "outputs": [],
   "source": [
    "#先jieba分词\n",
    "#从文件夹读取数据\n",
    "import pandas as pd\n",
    "import xlrd\n",
    "fileName = [\"aspect_withtime筛选.xlsx\"]\n",
    "alldata = []\n",
    "for fileName in fileName:\n",
    "    df = pd.read_excel(\"./\"+fileName)\n",
    "    data_list = df.values.tolist()\n",
    "    alldata = alldata+data_list\n",
    "#去掉表情符号等\n",
    "import re\n",
    "# 定义一个包含多个表情符号Unicode区间的正则表达式\n",
    "emoji_pattern = re.compile(\n",
    "    u'['    \n",
    "    u'\\U0001F300-\\U0001F5FF'  # 符号与表情\n",
    "    u'\\U0001F600-\\U0001F64F'  # 表情\n",
    "    u'\\U0001F680-\\U0001F6FF'  # 运输和地图符号\n",
    "    u'\\U0001F1E0-\\U0001F1FF'  # 区域指示器符号\n",
    "    u'\\u2600-\\u27BF'         # 杂项符号\n",
    "    u'\\u24C2-\\u24E9'         # 数字符号\n",
    "    u'\\U0001f900-\\U0001f9ff'  # 补充符号和图片\n",
    "    u'\\u3030-\\u303F'         # 日文假名\n",
    "    u'\\u203C-\\u2049'         # 货币和一般标点符号\n",
    "    u'\\u2000-\\u206F'         # 一般标点符号\n",
    "    u'\\u2190-\\u21FF'         # 箭头\n",
    "    u'\\u2700-\\u27BF'         # 括号和标点符号\n",
    "    u'\\u2B00-\\u2BFF'         # 几何形状和其他符号\n",
    "    u'\\u3000-\\u303F'         # CJK符号和标点\n",
    "    u'\\uFE30-\\uFE4F'         # CJK兼容形式\n",
    "    u'\\uFE00-\\uFE0F'         # 变异选择器\n",
    "    u'\\u3280-\\u32FF'         # 封闭式CJK字母和月份\n",
    "    u'\\u3300-\\u33FF'         # CJK兼容形式\n",
    "    u'\\uFFE0-\\uFFEF'         # 全角ASCII和半角标点\n",
    "    u'\\u2600-\\u26FF'         # 表情符号\n",
    "    u'\\u2700-\\u27BF'         # 额外的标点符号\n",
    "    u'\\uE000-\\uF8FF'         # 私人使用区域（不可用于公开交换）\n",
    "    ']+',\n",
    "    re.UNICODE\n",
    ")\n",
    "\n",
    "def remove_emojis(text):\n",
    "    return emoji_pattern.sub(r'', text)\n",
    "\n",
    "for data in range(len(alldata)):\n",
    "    alldata[data][1] = remove_emojis(alldata[data][1])\n",
    "\n",
    "all_data_4_cut = list(set([data[1] for data in alldata]))\n"
   ]
  },
  {
   "cell_type": "code",
   "execution_count": null,
   "id": "207007fa22e42b2c",
   "metadata": {
    "ExecuteTime": {
     "end_time": "2024-10-30T09:20:29.311534Z",
     "start_time": "2024-10-30T09:20:20.132601Z"
    },
    "collapsed": false
   },
   "outputs": [],
   "source": [
    "#jeiba分词\n",
    "rabit_word = ['',\n",
    "              ' ',\n",
    "              '，',\n",
    "              ',',\n",
    "              '?',\n",
    "              '|',\n",
    "              '（',\n",
    "              '）',\n",
    "              '：',\n",
    "              '！'\n",
    "              ,'10',\n",
    "              'Y',\n",
    "              '感',\n",
    "              '少',\n",
    "              '拍',\n",
    "              '少',\n",
    "              '玩',\n",
    "              '走',\n",
    "              '说',\n",
    "              '想',\n",
    "              '高',\n",
    "              '站',\n",
    "              '坐',\n",
    "              '完',\n",
    "              ]\n",
    "\n",
    "import jieba\n",
    "from spacy.lang.zh.stop_words import STOP_WORDS\n",
    "all_data_4_LDA = []\n",
    "for line in all_data_4_cut:\n",
    "    temp_data = list(jieba.cut(line))\n",
    "    temp_data_2 = [word for word in temp_data if word not in STOP_WORDS]\n",
    "    temp = [word for word in temp_data_2 if word not in rabit_word]\n",
    "    all_data_4_LDA.append(temp)"
   ]
  },
  {
   "cell_type": "code",
   "execution_count": null,
   "id": "fb5268e826a6a7b4",
   "metadata": {
    "ExecuteTime": {
     "end_time": "2024-10-30T09:20:34.932962Z",
     "start_time": "2024-10-30T09:20:31.191251Z"
    },
    "collapsed": false
   },
   "outputs": [],
   "source": [
    "import gensim\n",
    "from gensim import corpora\n",
    "import matplotlib.pyplot as plt\n",
    "import matplotlib\n",
    "import numpy as np\n",
    "import warnings\n",
    "warnings.filterwarnings('ignore')  # To ignore all warnings that arise here to enhance clarity\n",
    " \n",
    "from gensim.models.coherencemodel import CoherenceModel\n",
    "from gensim.models.ldamodel import LdaModel"
   ]
  },
  {
   "cell_type": "code",
   "execution_count": null,
   "id": "5e71f8813a245d16",
   "metadata": {
    "ExecuteTime": {
     "end_time": "2024-10-30T09:20:43.134970Z",
     "start_time": "2024-10-30T09:20:42.709168Z"
    },
    "collapsed": false
   },
   "outputs": [],
   "source": [
    "dictionary = corpora.Dictionary(all_data_4_LDA)  # 构建词典\n",
    "corpus = [dictionary.doc2bow(text) for text in all_data_4_LDA]  #表示为第几个单词出现了几次"
   ]
  },
  {
   "cell_type": "code",
   "execution_count": null,
   "id": "5c170fd938420e28",
   "metadata": {
    "ExecuteTime": {
     "end_time": "2024-10-30T09:22:27.351254Z",
     "start_time": "2024-10-30T09:20:45.037165Z"
    },
    "collapsed": false
   },
   "outputs": [],
   "source": [
    "ldamodel = LdaModel(corpus, num_topics=8, id2word = dictionary, passes=30,random_state = 1)   #分为10个主题\n",
    "print(ldamodel.print_topics(num_topics=8, num_words=15))  #每个主题输出15个单词"
   ]
  },
  {
   "cell_type": "code",
   "execution_count": null,
   "id": "597514009e907bd5",
   "metadata": {
    "ExecuteTime": {
     "end_time": "2024-10-30T09:23:48.531270Z",
     "start_time": "2024-10-30T09:23:48.389098Z"
    },
    "collapsed": false
   },
   "outputs": [],
   "source": [
    "topic_words = []\n",
    "for i in range(8):\n",
    "    temp_topics = ldamodel.show_topic(i,topn=len(dictionary))\n",
    "    topic_words.append(temp_topics)"
   ]
  },
  {
   "cell_type": "code",
   "execution_count": null,
   "id": "1c162ee5a62cd838",
   "metadata": {
    "ExecuteTime": {
     "end_time": "2024-10-30T09:23:52.487641Z",
     "start_time": "2024-10-30T09:23:52.421141Z"
    },
    "collapsed": false
   },
   "outputs": [],
   "source": [
    "topic_words_output = []\n",
    "for i in range(len(topic_words[0])):\n",
    "    temp = []\n",
    "    for j in range(8):\n",
    "        temp.append(topic_words[j][i][0])\n",
    "        temp.append(topic_words[j][i][1])\n",
    "    topic_words_output.append(temp)\n"
   ]
  },
  {
   "cell_type": "code",
   "execution_count": null,
   "id": "78467959a2df2a82",
   "metadata": {
    "ExecuteTime": {
     "end_time": "2024-10-30T09:24:00.682687Z",
     "start_time": "2024-10-30T09:24:00.455879Z"
    },
    "collapsed": false
   },
   "outputs": [],
   "source": [
    "df = pd.DataFrame(topic_words_output)\n",
    "# 将DataFrame输出到CSV文件\n",
    "df.to_csv('topic_words_output.csv',header=False, index=False, encoding='utf-8')"
   ]
  },
  {
   "cell_type": "code",
   "execution_count": null,
   "id": "721c8a6105402fb4",
   "metadata": {
    "ExecuteTime": {
     "end_time": "2024-10-29T12:39:49.125110Z",
     "start_time": "2024-10-29T12:39:49.110987Z"
    },
    "collapsed": false
   },
   "outputs": [],
   "source": [
    "#计算困惑度\n",
    "def perplexity(num_topics):\n",
    "    ldamodel = LdaModel(corpus, num_topics=num_topics, id2word = dictionary, passes=30)\n",
    "    print(ldamodel.print_topics(num_topics=num_topics, num_words=15))\n",
    "    print(ldamodel.log_perplexity(corpus))\n",
    "    return ldamodel.log_perplexity(corpus)\n",
    "#计算coherence\n",
    "def coherence(num_topics):\n",
    "    ldamodel = LdaModel(corpus, num_topics=num_topics, id2word = dictionary, passes=30,random_state = 1)\n",
    "    print(ldamodel.print_topics(num_topics=num_topics, num_words=10))\n",
    "    ldacm = CoherenceModel(model=ldamodel, texts=all_data_4_LDA, dictionary=dictionary, coherence='c_v')\n",
    "    print(ldacm.get_coherence())\n",
    "    return ldacm.get_coherence()"
   ]
  },
  {
   "cell_type": "code",
   "execution_count": null,
   "id": "9fc0064fa4a7c156",
   "metadata": {
    "ExecuteTime": {
     "start_time": "2024-10-29T12:46:09.124754Z"
    },
    "collapsed": false,
    "is_executing": true
   },
   "outputs": [],
   "source": [
    "x = range(1,14)\n",
    "y = [perplexity(i) for i in x]  #如果想用困惑度就选这个\n",
    "# y = [coherence(i) for i in x]\n",
    "plt.plot(x, y)\n",
    "plt.xlabel('主题数目')\n",
    "plt.ylabel('coherence大小')\n",
    "plt.rcParams['font.sans-serif']=['SimHei']\n",
    "matplotlib.rcParams['axes.unicode_minus']=False\n",
    "plt.title('主题-coherence变化情况')\n",
    "plt.show()"
   ]
  }
 ],
 "metadata": {
  "kernelspec": {
   "display_name": "Python 3",
   "language": "python",
   "name": "python3"
  },
  "language_info": {
   "codemirror_mode": {
    "name": "ipython",
    "version": 2
   },
   "file_extension": ".py",
   "mimetype": "text/x-python",
   "name": "python",
   "nbconvert_exporter": "python",
   "pygments_lexer": "ipython2",
   "version": "2.7.6"
  }
 },
 "nbformat": 4,
 "nbformat_minor": 5
}
