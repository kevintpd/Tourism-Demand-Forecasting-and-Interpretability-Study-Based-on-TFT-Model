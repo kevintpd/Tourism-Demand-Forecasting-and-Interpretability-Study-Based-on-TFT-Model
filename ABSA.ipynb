{
 "cells": [
  {
   "cell_type": "code",
   "execution_count": null,
   "id": "initial_id",
   "metadata": {
    "ExecuteTime": {
     "end_time": "2024-10-27T12:42:14.575051Z",
     "start_time": "2024-10-27T12:41:53.905383Z"
    },
    "collapsed": true
   },
   "outputs": [],
   "source": [
    "from pyabsa import AspectTermExtraction as ATEPC, available_checkpoints\n",
    "\n",
    "# you can view all available checkpoints by calling available_checkpoints()\n",
    "checkpoint_map = available_checkpoints()\n",
    "\n",
    "aspect_extractor = ATEPC.AspectExtractor('multilingual',\n",
    "                                         auto_device=True,  # False means load model on CPU\n",
    "                                         cal_perplexity=True,\n",
    "                                         )\n",
    "\n",
    "# instance inference\n",
    "aspect_extractor.predict(['我觉得这家店的炒饭还不错','景区的可口可乐真的很便宜','管理到位，风景优美，值得一去'],\n",
    "                         save_result=True,\n",
    "                         print_result=True,  # print the result\n",
    "                         ignore_error=True,  # ignore the error when the model cannot predict the input\n",
    "                         )\n"
   ]
  },
  {
   "cell_type": "code",
   "execution_count": null,
   "id": "447a0c105688b131",
   "metadata": {
    "ExecuteTime": {
     "end_time": "2024-10-27T11:28:02.043718Z",
     "start_time": "2024-10-27T11:28:02.038822Z"
    },
    "collapsed": false
   },
   "outputs": [],
   "source": [
    "inference_source = ATEPC.ATEPCDatasetList.Restaurant16\n",
    "print(inference_source)\n",
    "atepc_result = aspect_extractor.batch_predict(target_file=inference_source,  #\n",
    "                                              save_result=True,\n",
    "                                              print_result=True,  # print the result\n",
    "                                              pred_sentiment=True,  # Predict the sentiment of extracted aspect terms\n",
    "                                              )\n",
    "\n",
    "print(atepc_result)"
   ]
  },
  {
   "cell_type": "code",
   "execution_count": null,
   "id": "ac639b18377ff3d1",
   "metadata": {
    "ExecuteTime": {
     "end_time": "2024-10-27T12:33:22.981270Z",
     "start_time": "2024-10-27T12:33:16.671048Z"
    },
    "collapsed": false
   },
   "outputs": [],
   "source": [
    "from pyabsa import AspectPolarityClassification as APC, available_checkpoints\n",
    "\n",
    "# you can view all available checkpoints by calling available_checkpoints()\n",
    "checkpoint_map = available_checkpoints(show_ckpts=True)\n",
    "\n",
    "classifier = APC.SentimentClassifier('chinese',\n",
    "                                     auto_device=True,  # False means load model on CPU\n",
    "                                     cal_perplexity=True,\n",
    "                                     )\n",
    "\n",
    "# instance inference\n",
    "classifier.predict(['我喜欢雷神这部电影，真的很不错','阿冬服务热情周到，九寨沟和黄龙雪景值得一看。达古冰川体验了零下二十度极冷冰川世界。此次三日之旅非常满意！'],\n",
    "                   save_result=True,\n",
    "                   print_result=True,  # print the result\n",
    "                   ignore_error=True,  # ignore the error when the model cannot predict the input\n",
    "                   )\n",
    "\n",
    "\n"
   ]
  },
  {
   "cell_type": "code",
   "execution_count": null,
   "id": "51b5954d389ecf24",
   "metadata": {
    "ExecuteTime": {
     "end_time": "2024-10-27T11:51:12.970195Z",
     "start_time": "2024-10-27T11:51:12.946712Z"
    },
    "collapsed": false
   },
   "outputs": [],
   "source": [
    "inference_source = APC.APCDatasetList.Laptop14\n",
    "apc_result = classifier.batch_predict(target_file=inference_source,  #\n",
    "                                      save_result=True,\n",
    "                                      print_result=True,  # print the result\n",
    "                                      pred_sentiment=True,  # Predict the sentiment of extracted aspect terms\n",
    "                                      )\n",
    "\n",
    "print(apc_result)"
   ]
  }
 ],
 "metadata": {
  "kernelspec": {
   "display_name": "Python 3",
   "language": "python",
   "name": "python3"
  },
  "language_info": {
   "codemirror_mode": {
    "name": "ipython",
    "version": 2
   },
   "file_extension": ".py",
   "mimetype": "text/x-python",
   "name": "python",
   "nbconvert_exporter": "python",
   "pygments_lexer": "ipython2",
   "version": "2.7.6"
  }
 },
 "nbformat": 4,
 "nbformat_minor": 5
}
