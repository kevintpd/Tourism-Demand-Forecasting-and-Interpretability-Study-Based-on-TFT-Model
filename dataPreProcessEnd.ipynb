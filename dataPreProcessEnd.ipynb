{
 "cells": [
  {
   "cell_type": "code",
   "execution_count": 4,
   "id": "initial_id",
   "metadata": {
    "ExecuteTime": {
     "end_time": "2024-10-30T09:36:39.499532Z",
     "start_time": "2024-10-30T09:36:39.366356Z"
    },
    "collapsed": true
   },
   "outputs": [],
   "source": [
    "#先获取需要的主题词，要么主题词权重大于等于0.1，要么就是这个主题数量太少了，至少10个\n",
    "import pandas as pd\n",
    "topic_word = pd.read_csv('./topic_words_output.csv').values.tolist()\n",
    "topic_word_end = []\n",
    "for i in range(8):\n",
    "    temp = []\n",
    "    for topic in topic_word:\n",
    "        if len(temp)<=10:\n",
    "            temp.append(topic[i*2])\n",
    "        else:\n",
    "            if topic[i*2+1]>0.01:\n",
    "                temp.append(topic[i*2])\n",
    "    topic_word_end.append(temp)\n"
   ]
  },
  {
   "cell_type": "code",
   "execution_count": 19,
   "id": "d7236efcc750e9d3",
   "metadata": {
    "ExecuteTime": {
     "end_time": "2024-10-30T11:31:50.930305Z",
     "start_time": "2024-10-30T11:31:50.922547Z"
    },
    "collapsed": false
   },
   "outputs": [],
   "source": [
    "#将文件输出到csv\n",
    "# 将数据转换为DataFrame\n",
    "df_topic_word_end = pd.DataFrame(topic_word_end)\n",
    "# 将DataFrame输出到CSV文件\n",
    "df_topic_word_end.to_csv('./dataEnd/topic_word_end.csv',header=False, index=False, encoding='utf-8')"
   ]
  },
  {
   "cell_type": "code",
   "execution_count": 8,
   "id": "adb7c11eead37731",
   "metadata": {
    "ExecuteTime": {
     "end_time": "2024-10-30T09:41:50.990467Z",
     "start_time": "2024-10-30T09:41:50.707984Z"
    },
    "collapsed": false
   },
   "outputs": [],
   "source": [
    "#将之前的aspect分配到对于的主题里里面\n",
    "#读取文件\n",
    "aspect_with_time = pd.read_csv('./aspect_withtime.csv').values.tolist()\n",
    "aspect_with_time_end = []\n",
    "ok_aspect = []\n",
    "for i in topic_word_end:\n",
    "    ok_aspect +=i\n",
    "for aspect in aspect_with_time:\n",
    "    if aspect[2] in ok_aspect:\n",
    "        aspect_with_time_end.append(aspect)\n"
   ]
  },
  {
   "cell_type": "code",
   "execution_count": 18,
   "id": "a9bfbf76fb110cac",
   "metadata": {
    "ExecuteTime": {
     "end_time": "2024-10-30T11:31:19.173611Z",
     "start_time": "2024-10-30T11:31:19.066170Z"
    },
    "collapsed": false
   },
   "outputs": [],
   "source": [
    "#将文件输出到csv\n",
    "# 将数据转换为DataFrame\n",
    "df_aspect_with_time_end = pd.DataFrame(aspect_with_time_end)\n",
    "# 将DataFrame输出到CSV文件\n",
    "df_aspect_with_time_end.to_csv('./dataEnd/aspect_with_time_end.csv',header=False, index=False, encoding='utf-8')"
   ]
  },
  {
   "cell_type": "code",
   "execution_count": 17,
   "id": "b611768fd84ea944",
   "metadata": {
    "ExecuteTime": {
     "end_time": "2024-10-30T11:30:06.679102Z",
     "start_time": "2024-10-30T11:30:05.455281Z"
    },
    "collapsed": false
   },
   "outputs": [],
   "source": [
    "#按照日期进行加减\n",
    "aspect_end = []\n",
    "#先把时间拿出来\n",
    "aspect_time = list(set([i[0] for i in aspect_with_time_end]))\n",
    "#按时间归类\n",
    "for day in aspect_time:\n",
    "    temp_day = [day,0,0,0,0,0,0,0,0]#记录这一天的6个aspect\n",
    "    #写一个循环遍历所有的aspect\n",
    "    for aspect in aspect_with_time_end:\n",
    "        #固定这一天\n",
    "        if aspect[0] == day:\n",
    "            #再来一个for循环，遍历8个类别\n",
    "            for m in range(8):\n",
    "                if aspect[2] in topic_word_end[m]:\n",
    "                    aspect_score = 0\n",
    "                    if aspect[3] == \"Positive\":\n",
    "                        aspect_score = aspect[4]\n",
    "                    elif aspect[3] == \"Negative\":\n",
    "                        aspect_score = -aspect[4]\n",
    "                    else:\n",
    "                        aspect_score = 0\n",
    "                    temp_day[m+1] += aspect_score\n",
    "    aspect_end.append(temp_day)"
   ]
  },
  {
   "cell_type": "code",
   "execution_count": 16,
   "id": "ec7649a39ff1ea50",
   "metadata": {
    "ExecuteTime": {
     "end_time": "2024-10-30T11:29:36.865406Z",
     "start_time": "2024-10-30T11:29:36.846309Z"
    },
    "collapsed": false
   },
   "outputs": [],
   "source": [
    "#将数据输出到表格\n",
    "# 将数据转换为DataFrame\n",
    "df = pd.DataFrame(aspect_end)\n",
    "# 将DataFrame输出到CSV文件\n",
    "df.to_csv('./dataEnd/aspect_end.csv',header=False, index=False, encoding='utf-8')"
   ]
  }
 ],
 "metadata": {
  "kernelspec": {
   "display_name": "Python 3",
   "language": "python",
   "name": "python3"
  },
  "language_info": {
   "codemirror_mode": {
    "name": "ipython",
    "version": 2
   },
   "file_extension": ".py",
   "mimetype": "text/x-python",
   "name": "python",
   "nbconvert_exporter": "python",
   "pygments_lexer": "ipython2",
   "version": "2.7.6"
  }
 },
 "nbformat": 4,
 "nbformat_minor": 5
}
