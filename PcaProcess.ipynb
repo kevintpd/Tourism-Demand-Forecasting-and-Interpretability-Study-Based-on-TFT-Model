{
 "cells": [
  {
   "cell_type": "code",
   "execution_count": null,
   "id": "11aebfa0315b7e0",
   "metadata": {
    "ExecuteTime": {
     "end_time": "2024-10-28T11:17:34.406294Z",
     "start_time": "2024-10-28T11:17:33.733898Z"
    },
    "collapsed": false
   },
   "outputs": [],
   "source": [
    "import pandas as pd\n",
    "from sklearn.decomposition import PCA\n",
    "from sklearn.preprocessing import StandardScaler\n",
    "import matplotlib.pyplot as plt\n",
    "\n",
    "# 读取Excel文件\n",
    "df = pd.read_excel('百度指数数据-2019-2024.xlsx', usecols=\"B:I\")  # 读取B到T列\n",
    "\n",
    "# 标准化数据\n",
    "scaler = StandardScaler()\n",
    "scaled_data = scaler.fit_transform(df)\n",
    "\n",
    "# 初始化PCA，不设置主成分数\n",
    "pca = PCA(n_components=3)\n",
    "\n",
    "# 对数据进行PCA变换\n",
    "pca_result = pca.fit_transform(scaled_data)\n",
    "\n",
    "# 获取特征向量\n",
    "components = pca.components_\n",
    "\n",
    "# 获取主成分数量\n",
    "n_components = pca_result.shape[1]\n",
    "# 将PCA结果转换为DataFrame，方便查看\n",
    "pca_df = pd.DataFrame(data=pca_result, columns=[f'Principal Component {i+1}' for i in range(n_components)])\n",
    "# 打印解释的方差比例\n",
    "# 保存PCA结果到CSV文件\n",
    "pca_df.to_csv('pca_result.csv', index=False)\n",
    "print(\"Explained variance ratio:\", pca.explained_variance_ratio_)"
   ]
  },
  {
   "cell_type": "code",
   "execution_count": null,
   "id": "af6521d07c9d72f8",
   "metadata": {
    "ExecuteTime": {
     "end_time": "2024-10-28T10:41:36.188642Z",
     "start_time": "2024-10-28T10:41:36.180916Z"
    },
    "collapsed": false
   },
   "outputs": [],
   "source": [
    "print(pca.components_)\n",
    "components_df = pd.DataFrame(data=pca.components_, columns=[f'特征值 {i+1}' for i in range(8)])\n",
    "components_df.to_csv('components_result.csv', index=False)"
   ]
  },
  {
   "cell_type": "code",
   "execution_count": null,
   "id": "29544fb4a7b13a89",
   "metadata": {
    "collapsed": false
   },
   "outputs": [],
   "source": []
  }
 ],
 "metadata": {
  "kernelspec": {
   "display_name": "Python 3",
   "language": "python",
   "name": "python3"
  },
  "language_info": {
   "codemirror_mode": {
    "name": "ipython",
    "version": 2
   },
   "file_extension": ".py",
   "mimetype": "text/x-python",
   "name": "python",
   "nbconvert_exporter": "python",
   "pygments_lexer": "ipython2",
   "version": "2.7.6"
  }
 },
 "nbformat": 4,
 "nbformat_minor": 5
}
